{
 "cells": [
  {
   "cell_type": "code",
   "execution_count": 1,
   "metadata": {},
   "outputs": [],
   "source": [
    "import os"
   ]
  },
  {
   "cell_type": "code",
   "execution_count": 46,
   "metadata": {},
   "outputs": [],
   "source": [
    "# This function generates a list of gaussian input names as well as extracts\n",
    "# the names of original pdb files and their relative paths.\n",
    "# Rootdir argument is the directory from which the directory tree search starts\n",
    "\n",
    "def generateInputNames(rootdir='.'):\n",
    "\n",
    "    rootdir_length = len(rootdir) + 1 # length of the root directory plus '/' sign\n",
    "\n",
    "    gaussian_input_names = []\n",
    "    pdb_filenames = []\n",
    "    \n",
    "    dir_counter = -1 # do not include the root dir\n",
    "    file_counter = 0\n",
    "\n",
    "    # Loop through all directories and files in the root directory\n",
    "    for subdir, dirs, files in os.walk(rootdir):\n",
    "        dir_counter += 1\n",
    "        # Loop over all files\n",
    "        for file in files:\n",
    "            if '.pdb' in file:\n",
    "                file_counter += 1\n",
    "                pdb_file = os.path.join(subdir, file)\n",
    "                pdb_filenames.append(pdb_file)\n",
    "\n",
    "                input_name = os.path.join(subdir, file)[rootdir_length:].replace('/', '_').replace('pdb','com')\n",
    "                gaussian_input_names.append(f'{input_name}-{file_counter}')\n",
    "                \n",
    "    print(f'Found {file_counter} pdb files in {dir_counter} directories...\\n')\n",
    "    \n",
    "    return(pdb_filenames, gaussian_input_names)"
   ]
  },
  {
   "cell_type": "code",
   "execution_count": 47,
   "metadata": {},
   "outputs": [
    {
     "name": "stdout",
     "output_type": "stream",
     "text": [
      "Found 100 pdb files in 12 directories...\n"
     ]
    }
   ],
   "source": [
    "pdb_filenames, gaussian_input_names = generateInputNames()"
   ]
  },
  {
   "cell_type": "code",
   "execution_count": 4,
   "metadata": {
    "scrolled": true
   },
   "outputs": [],
   "source": [
    "# This function reads a single PDB file and extracts all the useful data\n",
    "# for the gaussian input file\n",
    "\n",
    "def readPDB(filename):\n",
    "\n",
    "    atom_data = []\n",
    "\n",
    "    with open(filename, 'r') as file:\n",
    "        lines = file.readlines()\n",
    "        for line in lines:\n",
    "            if 'ATOM' in line:\n",
    "                atomname = line.split()[-1]\n",
    "                pdbname = line.split()[2]\n",
    "                resname = line.split()[3]\n",
    "                resnum = line.split()[4]\n",
    "                X = '{:.8f}'.format(float(line.split()[5]))\n",
    "                Y = '{:.8f}'.format(float(line.split()[6]))\n",
    "                Z = '{:.8f}'.format(float(line.split()[7]))\n",
    "\n",
    "                atom_data.append(f' {atomname:}(PDBName={pdbname},ResName={resname},ResNum={resnum}) {X:>20} {Y:>20} {Z:>20} \\n')\n",
    "    \n",
    "    return(atom_data)"
   ]
  },
  {
   "cell_type": "code",
   "execution_count": 5,
   "metadata": {},
   "outputs": [],
   "source": [
    "# This function writes a single gaussian input file\n",
    "# based on the data from the PDB file and\n",
    "# some additional gaussian-related info\n",
    "\n",
    "def writeGaussianInput(filename, atom_data, ncores, method, basis_set, keywords, charge, multiplicity):\n",
    "    \n",
    "    with open(filename, 'w') as file:\n",
    "        file.write(f'%nprocshared={ncores} \\n')\n",
    "        file.write(f'%chk={filename.replace(\"com\", \"chk\")} \\n')\n",
    "        file.write(f'# {method}/{basis_set} {keywords} \\n\\n')\n",
    "        file.write(f'{filename.replace(\".com\", \"\")} \\n\\n')\n",
    "        file.write(f'{charge} {multiplicity} \\n')\n",
    "        file.writelines(atom_data)\n",
    "        file.write('\\n')\n",
    "        \n",
    "    return"
   ]
  },
  {
   "cell_type": "code",
   "execution_count": 51,
   "metadata": {},
   "outputs": [],
   "source": [
    "# This function generates gaussian input files corresponding\n",
    "# to every PDB file that is found in the directory tree\n",
    "\n",
    "def generateGaussianInput(pdb_filenames, gaussian_input_names, \n",
    "                          ncores='6', method='b3pw91', basis_set=\"6-31g(d')\", \n",
    "                          keywords='empiricaldispersion=gd3', charge='2', multiplicity='1'):\n",
    "    \n",
    "    print(f'Writing {len(gaussian_input_names)} gaussian input files using \\n {ncores} CPU core(s), {method}/{basis_set} level of theory, {keywords}, charge = {charge} and multiplicity = {multiplicity} ... \\n\\n')\n",
    "    for pdbname, inputname in zip(pdb_filenames, gaussian_input_names):\n",
    "        atom_data = readPDB(pdbname)\n",
    "        writeGaussianInput(inputname, atom_data, ncores=ncores, method=method, \n",
    "                           basis_set=basis_set, keywords=keywords, charge=charge, multiplicity=multiplicity)\n",
    "        \n",
    "    print('Done! \\n')\n",
    "        \n",
    "        \n",
    "    return"
   ]
  },
  {
   "cell_type": "code",
   "execution_count": 197,
   "metadata": {},
   "outputs": [],
   "source": [
    "atom_data = readPDB(pdb_filenames[0])"
   ]
  },
  {
   "cell_type": "code",
   "execution_count": 176,
   "metadata": {},
   "outputs": [],
   "source": [
    "writeGaussianInput(gaussian_input_names[0], atom_data, ncores='6', method='b3pw91', basis_set=\"6-31g(d')\",\n",
    "    keywords='empiricaldispersion=gd3', charge='2', multiplicity='1')"
   ]
  },
  {
   "cell_type": "code",
   "execution_count": 205,
   "metadata": {},
   "outputs": [],
   "source": [
    "generateGaussianInput(pdb_filenames, gaussian_input_names, \n",
    "                          ncores='6', method='b3pw91', basis_set=\"6-31g(d')\", \n",
    "                          keywords='empiricaldispersion=gd3', charge='2', multiplicity='1')"
   ]
  },
  {
   "cell_type": "code",
   "execution_count": null,
   "metadata": {},
   "outputs": [],
   "source": []
  }
 ],
 "metadata": {
  "kernelspec": {
   "display_name": "Python 3",
   "language": "python",
   "name": "python3"
  },
  "language_info": {
   "codemirror_mode": {
    "name": "ipython",
    "version": 3
   },
   "file_extension": ".py",
   "mimetype": "text/x-python",
   "name": "python",
   "nbconvert_exporter": "python",
   "pygments_lexer": "ipython3",
   "version": "3.7.7"
  }
 },
 "nbformat": 4,
 "nbformat_minor": 4
}
